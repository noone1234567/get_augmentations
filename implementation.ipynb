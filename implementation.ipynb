{
 "cells": [
  {
   "cell_type": "markdown",
   "id": "57e1910a-07fc-4fd4-8a61-37a5966dc444",
   "metadata": {},
   "source": [
    "# Подгрузка"
   ]
  },
  {
   "cell_type": "code",
   "execution_count": 11,
   "id": "7f8e203d-db02-40a1-a627-5a788cfcc5ba",
   "metadata": {},
   "outputs": [
    {
     "name": "stdout",
     "output_type": "stream",
     "text": [
      "The autoreload extension is already loaded. To reload it, use:\n",
      "  %reload_ext autoreload\n"
     ]
    }
   ],
   "source": [
    "%load_ext autoreload\n",
    "%autoreload 2"
   ]
  },
  {
   "cell_type": "code",
   "execution_count": 12,
   "id": "0f8546fa-4b7e-4fef-8d42-3d226b7a8ce5",
   "metadata": {},
   "outputs": [],
   "source": [
    "import sys\n",
    "from pathlib import Path\n",
    "\n",
    "project_root = Path().resolve()\n",
    "sys.path.append(str(project_root))\n",
    "\n",
    "from filters.spatter import *"
   ]
  },
  {
   "cell_type": "code",
   "execution_count": 13,
   "id": "bea9f316-1f12-4b45-8c25-f7e5edb0bcec",
   "metadata": {},
   "outputs": [],
   "source": [
    "my_filter = MySpatter()\n",
    "my_filter.set_params({})"
   ]
  },
  {
   "cell_type": "markdown",
   "id": "2389e092-521f-491a-9a06-440996ccf4bb",
   "metadata": {},
   "source": [
    "# Первый способ"
   ]
  },
  {
   "cell_type": "code",
   "execution_count": 17,
   "id": "ae4386c4-cc74-439c-a2e9-5609e579ef1f",
   "metadata": {},
   "outputs": [],
   "source": [
    "# values we need to set\n",
    "needed_quantities = {'std':3, 'intensity':3, 'gauss_sigma':3} # сколько хотим сечений сетки по каждому параметру\n",
    "needed_count = 20 # сколько хотим по итогу видосов > 1\n",
    "min_psnr = 12 # в целом можно оставлять для любых фильтров\n",
    "max_psnr = 50 # в целом можно оставлять для любых фильтров"
   ]
  },
  {
   "cell_type": "code",
   "execution_count": null,
   "id": "d5d8ec14-555a-4101-8251-19719e66394f",
   "metadata": {},
   "outputs": [],
   "source": [
    "# create a map for video parameters and run them\n",
    "from itertools import product\n",
    "\n",
    "my_params = my_filter.get_ranges()\n",
    "\n",
    "for elem in my_params.keys():\n",
    "    left, right = my_params[elem]\n",
    "    my_params[elem] = [left + i * (right - left) / (needed_quantities[elem] + 1) for i in range(1, needed_quantities[elem] + 1)]\n",
    "\n",
    "with open(psnr_file, 'a') as ughhh:\n",
    "    all_combinations = list(product(*my_params.values())) # create a map of params\n",
    "    for combination in all_combinations:\n",
    "        param_dict = dict(zip(my_params.keys(), combination))\n",
    "        my_filter.set_params(param_dict)\n",
    "        my_filter.apply_filter_video(input_path='videos/crowd_run_short_1920x1080_50.yuv')\n",
    "        res = my_filter.apply_filter_video(input_path='videos/crowd_run_short_1920x1080_50.yuv')\n",
    "        ughhh.write(f\"std={std}intensity={intensity}gauss_sigma={gauss_sigma}psnr={res}\\n\")"
   ]
  },
  {
   "cell_type": "code",
   "execution_count": 2,
   "id": "96c51a78-cd19-404c-b055-6021668689e3",
   "metadata": {},
   "outputs": [
    {
     "name": "stdout",
     "output_type": "stream",
     "text": [
      "Saved 30 frames to videos/shrt.yuv in YUV format\n"
     ]
    }
   ],
   "source": [
    "sample_yuv_frames('videos/crowd_run_short_1920x1080_50.yuv', 'videos/shrt.yuv', 1920, 1080, num_frames=30)"
   ]
  },
  {
   "cell_type": "code",
   "execution_count": null,
   "id": "df8c5d8f-0b0b-46bc-893c-a1288fa6cea7",
   "metadata": {},
   "outputs": [],
   "source": [
    "#didn't check this one\n",
    "with open(psnr_file, 'r') as file:\n",
    "    lines = file.readlines()\n",
    "lines = [line.strip() for line in lines]\n",
    "psnrs = [float(line.split('=')[-1]) for line in lines]\n",
    "\n",
    "# now we have psnr values and need to fill the gaps by using psnr analyze\n",
    "min_psnr = max(min(psnrs), min_psnr)\n",
    "max_psnr = min(max(psnrs), max_psnr)\n",
    "needed_psnrs = [min_psnr + i * (max_psnr - min_psnr) / (needed_count - 1) for i in range(needed_count)]\n",
    "\n",
    "#delete videos with too low or too high psnr values\n",
    "i = 0\n",
    "while i < len(psnrs):\n",
    "    if not (x >= min_psnr and x <= max_psnr):\n",
    "        os.remove('videos/' + lines[i].split('psnr')[0] + '.yuv'): # you can use os.join(...) \n",
    "        del lines[i]\n",
    "        del psnrs[i]\n",
    "    i += 1\n",
    "\n",
    "\n",
    "for needed_psnr in needed_psnrs:\n",
    "    ind, closest = min(list(enumerate(psnrs)), key=lambda x: abs(x[1] - needed_psnr))\n",
    "    new_psnrs = []\n",
    "    new_lines = []\n",
    "    #check if the closest(from needed_psnrs) is actually close\n",
    "    if needed_psnr != min(needed_psnrs, key=lambda x: abs(x - closest)):\n",
    "        study = start_optimization(partial(my_filter.get_objective, input_path='videos/shrt.yuv', output_path='videos/res.yuv', needed_psnr=psnr), n_trials = 150, n_jobs = 1,\n",
    "                                   tpe_sampler = tpe_sampler)\n",
    "        my_filter.set_params(study.best_trial.params)\n",
    "        res = my_filter.apply_filter_video(input_path='videos/crowd_run_short_1920x1080_50.yuv')\n",
    "        new_psnrs.append(res)\n",
    "        new_lines.append(f\"std={std}intensity={intensity}gauss_sigma={gauss_sigma}psnr={res}\")\n",
    "    else:\n",
    "        new_psnrs.append(closest)\n",
    "        new_lines.append(lines[ind])\n",
    "        \n",
    "#rewrite the psnr log file as we have changed the video set\n",
    "with open(psnr_file, 'w') as file:\n",
    "    for line in new_lines:\n",
    "        file.write(line + '\\n')\n",
    "\n",
    "for bad_line in set(lines).difference(new_lines): # lines that used to be there but are no longer ther => delete their videos\n",
    "    os.remove('videos/' + bad_line.split('psnr')[0] + '.yuv'): # you can use os.join(...) "
   ]
  },
  {
   "cell_type": "code",
   "execution_count": 22,
   "id": "d2bbb6bc-b0c7-4bf4-97af-bee01be68bee",
   "metadata": {
    "scrolled": true
   },
   "outputs": [
    {
     "data": {
      "image/png": "[encoded data removed]",
      "text/plain": [
       "<Figure size 640x480 with 1 Axes>"
      ]
     },
     "metadata": {},
     "output_type": "display_data"
    },
    {
     "data": {
      "text/plain": [
       "[33.15226999999999]"
      ]
     },
     "execution_count": 22,
     "metadata": {},
     "output_type": "execute_result"
    }
   ],
   "source": [
    "# в реализации описанной сергеем не нужно\n",
    "psnr_analyze('psnr_before.txt')"
   ]
  },
  {
   "cell_type": "markdown",
   "id": "623b5676-f187-439d-bf9c-ccffe8a201d0",
   "metadata": {},
   "source": [
    "# Второй способ"
   ]
  },
  {
   "cell_type": "code",
   "execution_count": null,
   "id": "b5cfdaaf-c77c-499e-928d-14bf8a0a84f0",
   "metadata": {},
   "outputs": [],
   "source": [
    "sample_yuv_frames('videos/crowd_run_short_1920x1080_50.yuv', 'videos/shrt.yuv', 1920, 1080, num_frames=30)"
   ]
  },
  {
   "cell_type": "code",
   "execution_count": null,
   "id": "d92cb511-8ffc-4ee9-8c0d-3838b99dd18c",
   "metadata": {},
   "outputs": [],
   "source": [
    "tpe_sampler = optuna.samplers.TPESampler(\n",
    "        n_startup_trials= 8, # объем разведки. Всегда настраивайте!\n",
    "        n_ei_candidates=15, # влияет на \"точность шага\"\n",
    ")\n",
    "psnrs = [15,17.5, 20, 22.5,  25, 27.5, 30, 32.5, 35, 37.5, 40, 42.5, 45, 47.5]\n",
    "for psnr in psnrs:\n",
    "    study = start_optimization(partial(my_filter.get_objective, input_path='videos/shrt.yuv', output_path='videos/res.yuv', needed_psnr=psnr), n_trials = 150, n_jobs = 1,\n",
    "                           tpe_sampler = tpe_sampler)\n",
    "    my_filter.set_params(study.best_trial.params)\n",
    "    my_filter.apply_filter_video(input_path='videos/crowd_run_short_1920x1080_50.yuv')"
   ]
  },
  {
   "cell_type": "code",
   "execution_count": null,
   "id": "ff4134ca-c8b8-41cd-bbb5-ca820c9d8182",
   "metadata": {},
   "outputs": [],
   "source": [
    "psnr_file = 'smth.txt'\n",
    "my_filter.first_set(psnr_file)\n",
    "sample_yuv_frames('videos/crowd_run_short_1920x1080_50.yuv', 'videos/shrt.yuv', 1920, 1080, num_frames=30)\n",
    "tpe_sampler = optuna.samplers.TPESampler(\n",
    "        n_startup_trials= 8, # объем разведки. Всегда настраивайте!\n",
    "        n_ei_candidates=15, # влияет на \"точность шага\"\n",
    ")\n",
    "added_params = []\n",
    "for psnr in psnr_analyze(psnr_file):\n",
    "    study = start_optimization(partial(my_filter.get_objective, input_path='videos/shrt.yuv', needed_psnr=psnr), n_trials = 150, n_jobs = 1,\n",
    "                           tpe_sampler = tpe_sampler)\n",
    "    my_filter.set_params(study.best_trial.params)\n",
    "    psnr = my_filter.apply_filter_video(input_path='videos/crowd_run_short_1920x1080_50.yuv')\n",
    "    added_params.append([study.best_trial.params, psnr])"
   ]
  },
  {
   "cell_type": "markdown",
   "id": "a42f1f68-5eac-4aaa-ab56-f6cf9237dab1",
   "metadata": {},
   "source": [
    "В целом почти уверен что второй способ как и проще в реализации, так и работает быстрее и ошибка по сетке у него будет очевидно меньше потому что мы используем оптюну."
   ]
  }
 ],
 "metadata": {
  "kernelspec": {
   "display_name": "Python 3 (ipykernel)",
   "language": "python",
   "name": "python3"
  },
  "language_info": {
   "codemirror_mode": {
    "name": "ipython",
    "version": 3
   },
   "file_extension": ".py",
   "mimetype": "text/x-python",
   "name": "python",
   "nbconvert_exporter": "python",
   "pygments_lexer": "ipython3",
   "version": "3.11.6"
  }
 },
 "nbformat": 4,
 "nbformat_minor": 5
}
