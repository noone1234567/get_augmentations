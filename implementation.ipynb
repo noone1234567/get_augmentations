{
 "cells": [
  {
   "cell_type": "code",
   "execution_count": 1,
   "id": "0f8546fa-4b7e-4fef-8d42-3d226b7a8ce5",
   "metadata": {},
   "outputs": [
    {
     "name": "stderr",
     "output_type": "stream",
     "text": [
      "/home/alwin/anaconda3/lib/python3.11/site-packages/albumentations/__init__.py:13: UserWarning: A new version of Albumentations is available: 1.4.20 (you have 1.4.15). Upgrade using: pip install -U albumentations. To disable automatic update checks, set the environment variable NO_ALBUMENTATIONS_UPDATE to 1.\n",
      "  check_for_updates()\n"
     ]
    }
   ],
   "source": [
    "from spatter import *"
   ]
  },
  {
   "cell_type": "code",
   "execution_count": 2,
   "id": "bea9f316-1f12-4b45-8c25-f7e5edb0bcec",
   "metadata": {},
   "outputs": [],
   "source": [
    "my_filter = MySpatter()\n",
    "my_filter.set_params({})\n",
    "#my_filter.apply_filter_video(input_path='videos/crowd_run_short_1920x1080_50.yuv', output_path='videos/tired.yuv')"
   ]
  },
  {
   "cell_type": "code",
   "execution_count": 3,
   "id": "96c51a78-cd19-404c-b055-6021668689e3",
   "metadata": {},
   "outputs": [
    {
     "name": "stdout",
     "output_type": "stream",
     "text": [
      "Saved 15 frames to videos/shrt.yuv in YUV format\n"
     ]
    }
   ],
   "source": [
    "sample_yuv_frames('videos/crowd_run_short_1920x1080_50.yuv', 'videos/shrt.yuv', 1920, 1080, num_frames=30)"
   ]
  },
  {
   "cell_type": "code",
   "execution_count": 13,
   "id": "9321f115-53f1-4dc7-ae8f-3b47d85ca5c2",
   "metadata": {},
   "outputs": [
    {
     "data": {
      "text/plain": [
       "'tpe_sampler = optuna.samplers.TPESampler(\\n        n_startup_trials= 8, # объем разведки. Всегда настраивайте!\\n        n_ei_candidates=15, # влияет на \"точность шага\"\\n)\\nstudy = start_optimization(partial(my_filter.get_objective, input_path=\\'videos/shrt.yuv\\', output_path=\\'videos/res.yuv\\', needed_psnr=33), n_trials = 150, n_jobs = 1,\\n                           tpe_sampler = tpe_sampler)'"
      ]
     },
     "execution_count": 13,
     "metadata": {},
     "output_type": "execute_result"
    }
   ],
   "source": [
    "tpe_sampler = optuna.samplers.TPESampler(\n",
    "        n_startup_trials= 8, # объем разведки. Всегда настраивайте!\n",
    "        n_ei_candidates=15, # влияет на \"точность шага\"\n",
    ")\n",
    "study = start_optimization(partial(my_filter.get_objective, input_path='videos/shrt.yuv', output_path='videos/res.yuv', needed_psnr=33), n_trials = 150, n_jobs = 1,\n",
    "                           tpe_sampler = tpe_sampler)"
   ]
  },
  {
   "cell_type": "code",
   "execution_count": 10,
   "id": "dccdf747-467f-42da-9507-e566dff74b4a",
   "metadata": {},
   "outputs": [],
   "source": [
    "my_filter.set_params(study.best_trial.params)"
   ]
  },
  {
   "cell_type": "code",
   "execution_count": 11,
   "id": "d5567d4e-df78-423a-a208-799d0b0963c7",
   "metadata": {},
   "outputs": [
    {
     "data": {
      "text/plain": [
       "FrozenTrial(number=89, state=1, values=[0.006666666666660603], datetime_start=datetime.datetime(2024, 10, 27, 16, 40, 10, 452731), datetime_complete=datetime.datetime(2024, 10, 27, 16, 40, 16, 343589), params={'std': 0.7746014078642826, 'intensity': 0.37599567998344985, 'gauss_sigma': 9.0}, user_attrs={}, system_attrs={}, intermediate_values={}, distributions={'std': FloatDistribution(high=1.0, log=False, low=0.0, step=None), 'intensity': FloatDistribution(high=1.0, log=False, low=0.0, step=None), 'gauss_sigma': FloatDistribution(high=20.0, log=False, low=0.0, step=0.5)}, trial_id=89, value=None)"
      ]
     },
     "execution_count": 11,
     "metadata": {},
     "output_type": "execute_result"
    }
   ],
   "source": [
    "study.best_trial"
   ]
  },
  {
   "cell_type": "code",
   "execution_count": 12,
   "id": "2a8f755e-f19b-4f48-a4d2-4e9e876d7ca4",
   "metadata": {},
   "outputs": [
    {
     "name": "stdout",
     "output_type": "stream",
     "text": [
      "done filtering\n"
     ]
    },
    {
     "name": "stderr",
     "output_type": "stream",
     "text": [
      "ffmpeg version 5.1.2 Copyright (c) 2000-2022 the FFmpeg developers\n",
      "  built with gcc 11.3.0 (conda-forge gcc 11.3.0-19)\n",
      "  configuration: --prefix=/home/conda/feedstock_root/build_artifacts/ffmpeg_1674566204550/_h_env_placehold_placehold_placehold_placehold_placehold_placehold_placehold_placehold_placehold_placehold_placehold_placehold_placehold_placehold_placehold_placehold_placehold_placehold_plac --cc=/home/conda/feedstock_root/build_artifacts/ffmpeg_1674566204550/_build_env/bin/x86_64-conda-linux-gnu-cc --cxx=/home/conda/feedstock_root/build_artifacts/ffmpeg_1674566204550/_build_env/bin/x86_64-conda-linux-gnu-c++ --nm=/home/conda/feedstock_root/build_artifacts/ffmpeg_1674566204550/_build_env/bin/x86_64-conda-linux-gnu-nm --ar=/home/conda/feedstock_root/build_artifacts/ffmpeg_1674566204550/_build_env/bin/x86_64-conda-linux-gnu-ar --disable-doc --disable-openssl --enable-demuxer=dash --enable-hardcoded-tables --enable-libfreetype --enable-libfontconfig --enable-libopenh264 --enable-gnutls --enable-libmp3lame --enable-libvpx --enable-pthreads --enable-vaapi --enable-gpl --enable-libx264 --enable-libx265 --enable-libaom --enable-libsvtav1 --enable-libxml2 --enable-pic --enable-shared --disable-static --enable-version3 --enable-zlib --enable-libopus --pkg-config=/home/conda/feedstock_root/build_artifacts/ffmpeg_1674566204550/_build_env/bin/pkg-config\n",
      "  libavutil      57. 28.100 / 57. 28.100\n",
      "  libavcodec     59. 37.100 / 59. 37.100\n",
      "  libavformat    59. 27.100 / 59. 27.100\n",
      "  libavdevice    59.  7.100 / 59.  7.100\n",
      "  libavfilter     8. 44.100 /  8. 44.100\n",
      "  libswscale      6.  7.100 /  6.  7.100\n",
      "  libswresample   4.  7.100 /  4.  7.100\n",
      "  libpostproc    56.  6.100 / 56.  6.100\n",
      "[rawvideo @ 0x62c56e2ad0c0] Estimating duration from bitrate, this may be inaccurate\n",
      "Input #0, rawvideo, from 'videos/tired.yuv':\n",
      "  Duration: 00:00:20.00, start: 0.000000, bitrate: 622080 kb/s\n",
      "  Stream #0:0: Video: rawvideo (I420 / 0x30323449), yuv420p, 1920x1080, 622080 kb/s, 25 tbr, 25 tbn\n",
      "[rawvideo @ 0x62c56e2afb80] Estimating duration from bitrate, this may be inaccurate\n",
      "Input #1, rawvideo, from 'videos/crowd_run_short_1920x1080_50.yuv':\n",
      "  Duration: 00:00:20.00, start: 0.000000, bitrate: 622080 kb/s\n",
      "  Stream #1:0: Video: rawvideo (I420 / 0x30323449), yuv420p, 1920x1080, 622080 kb/s, 25 tbr, 25 tbn\n",
      "Stream mapping:\n",
      "  Stream #0:0 (rawvideo) -> psnr\n",
      "  Stream #1:0 (rawvideo) -> psnr\n",
      "  psnr:default -> Stream #0:0 (wrapped_avframe)\n",
      "Press [q] to stop, [?] for help\n",
      "Output #0, null, to 'pipe:':\n",
      "  Metadata:\n",
      "    encoder         : Lavf59.27.100\n",
      "  Stream #0:0: Video: wrapped_avframe, yuv420p(progressive), 1920x1080, q=2-31, 200 kb/s, 50 fps, 50 tbn\n",
      "    Metadata:\n",
      "      encoder         : Lavc59.37.100 wrapped_avframe\n",
      "frame=  500 fps=248 q=-0.0 Lsize=N/A time=00:00:10.00 bitrate=N/A speed=4.96x    \n",
      "video:230kB audio:0kB subtitle:0kB other streams:0kB global headers:0kB muxing overhead: unknown\n",
      "[Parsed_psnr_0 @ 0x62c56e2be2c0] PSNR y:31.445963 u:43.291464 v:45.168026 average:33.091359 min:30.780685 max:36.778503\n"
     ]
    },
    {
     "data": {
      "text/plain": [
       "33.212400000000045"
      ]
     },
     "execution_count": 12,
     "metadata": {},
     "output_type": "execute_result"
    }
   ],
   "source": [
    "my_filter.apply_filter_video(input_path='videos/crowd_run_short_1920x1080_50.yuv', output_path='videos/tired.yuv')"
   ]
  }
 ],
 "metadata": {
  "kernelspec": {
   "display_name": "Python 3 (ipykernel)",
   "language": "python",
   "name": "python3"
  },
  "language_info": {
   "codemirror_mode": {
    "name": "ipython",
    "version": 3
   },
   "file_extension": ".py",
   "mimetype": "text/x-python",
   "name": "python",
   "nbconvert_exporter": "python",
   "pygments_lexer": "ipython3",
   "version": "3.11.6"
  }
 },
 "nbformat": 4,
 "nbformat_minor": 5
}
